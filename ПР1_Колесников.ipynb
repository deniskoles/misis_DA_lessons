{
  "nbformat": 4,
  "nbformat_minor": 0,
  "metadata": {
    "colab": {
      "name": "ПР1_Колесников.ipynb",
      "provenance": [],
      "collapsed_sections": [],
      "toc_visible": true,
      "include_colab_link": true
    },
    "kernelspec": {
      "display_name": "Python 3",
      "name": "python3"
    }
  },
  "cells": [
    {
      "cell_type": "markdown",
      "metadata": {
        "id": "view-in-github",
        "colab_type": "text"
      },
      "source": [
        "<a href=\"https://colab.research.google.com/github/deniskoles/misis_DA_lessons/blob/main/%D0%9F%D0%A01_%D0%9A%D0%BE%D0%BB%D0%B5%D1%81%D0%BD%D0%B8%D0%BA%D0%BE%D0%B2.ipynb\" target=\"_parent\"><img src=\"https://colab.research.google.com/assets/colab-badge.svg\" alt=\"Open In Colab\"/></a>"
      ]
    },
    {
      "cell_type": "markdown",
      "metadata": {
        "id": "pJ2ViJEj3MFO"
      },
      "source": [
        "#Задача 1\n",
        " По данному числу N распечатайте все целые степени двойки, не превосходящие N, в порядке возрастания. Если число N является степенью двойки, то его также необходимо вывести."
      ]
    },
    {
      "cell_type": "code",
      "metadata": {
        "id": "5tCR-z9p3MOm",
        "colab": {
          "base_uri": "https://localhost:8080/"
        },
        "outputId": "69480f6f-e1cf-4984-9cd0-145e4d9955d4"
      },
      "source": [
        "import math\n",
        "n1 = int(input())\n",
        "m1 = 1\n",
        "for i in range(n1):\n",
        "  u1 = math.log2(m1)\n",
        "  if u1%1 == 0:\n",
        "    print(m1,\"=2 ^\",u1)\n",
        "  m1 = m1 + 1\n",
        "\n"
      ],
      "execution_count": null,
      "outputs": [
        {
          "output_type": "stream",
          "name": "stdout",
          "text": [
            "5\n",
            "1 =2 ^ 0.0\n",
            "2 =2 ^ 1.0\n",
            "4 =2 ^ 2.0\n"
          ]
        }
      ]
    },
    {
      "cell_type": "markdown",
      "metadata": {
        "id": "RObVn_ob3fKm"
      },
      "source": [
        "# Задача 2\n",
        " Напишите программу, которая считывает со стандартного ввода целые числа, по одному числу в строке, и после первого введенного нуля выводит сумму полученных на вход чисел.\n"
      ]
    },
    {
      "cell_type": "code",
      "metadata": {
        "id": "3P8dwD3B3fR2",
        "colab": {
          "base_uri": "https://localhost:8080/"
        },
        "outputId": "f0e34cea-7dd8-41d0-910e-b17723abafa2"
      },
      "source": [
        "import math\n",
        "s = 0\n",
        "num = 1\n",
        "while num != 0:\n",
        "  num = int(input())\n",
        "  s = s + num\n",
        "print(s)\n"
      ],
      "execution_count": null,
      "outputs": [
        {
          "output_type": "stream",
          "name": "stdout",
          "text": [
            "5\n",
            "2\n",
            "0\n",
            "7\n"
          ]
        }
      ]
    },
    {
      "cell_type": "markdown",
      "metadata": {
        "id": "2p0Rv9Vz3nNm"
      },
      "source": [
        "# Задача 3 \n",
        "  Последовательность состоит из натуральных чисел и завершается числом 0. Определите, сколько элементов этой последовательности больше предыдущего элемента."
      ]
    },
    {
      "cell_type": "code",
      "metadata": {
        "id": "-RvgKx9k3sSG"
      },
      "source": [
        "a3 = [1,2,3,4,5,6,7,9,3,2,1,0]\n",
        "sum3 = 0\n",
        "i3 = 1\n",
        "for i3 in range(len(a3)):\n",
        "  if a3[i3-1] < a3[i3]:\n",
        "    sum3 = sum3 + 1\n",
        "print(sum)"
      ],
      "execution_count": null,
      "outputs": []
    },
    {
      "cell_type": "markdown",
      "metadata": {
        "id": "N77CIXVM3t2V"
      },
      "source": [
        "# Задача 4\n",
        " Последовательность состоит из натуральных чисел и завершается числом 0. Определите, какое количество элементов этой последовательности, равны ее наибольшему элементу."
      ]
    },
    {
      "cell_type": "code",
      "metadata": {
        "id": "y4v7YvGX3uF-"
      },
      "source": [
        "a = [1,2,3,4,5,6,7,9,9,3,2,1,0]\n",
        "print(a.count(max(a)))"
      ],
      "execution_count": null,
      "outputs": []
    },
    {
      "cell_type": "markdown",
      "metadata": {
        "id": "bH2jXcb631T2"
      },
      "source": [
        "# Задача 5\n",
        " Напишите программу, которая считывает с консоли числа (по одному в строке) до тех пор, пока сумма введённых чисел не будет равна 0 и сразу после этого выводит сумму квадратов всех считанных чисел.Гарантируется, что в какой-то момент сумма введённых чисел окажется равной 0, после этого считывание продолжать не нужно.\n"
      ]
    },
    {
      "cell_type": "code",
      "metadata": {
        "id": "ZjwF1IhA31cG",
        "colab": {
          "base_uri": "https://localhost:8080/"
        },
        "outputId": "de53f38a-3417-4039-bdd3-6f7856c7d4ba"
      },
      "source": [
        "s5 = 1\n",
        "a5 = []\n",
        "summ5 = 0\n",
        "sum5 = 0\n",
        "while s5 != 0:\n",
        "  n5 = int(input())\n",
        "  summ5 = summ5 + n5**2\n",
        "  sum5 = sum5 + n5\n",
        "  s5 = sum5\n",
        "print(summ5)"
      ],
      "execution_count": null,
      "outputs": [
        {
          "output_type": "stream",
          "name": "stdout",
          "text": [
            "1\n",
            "2\n",
            "3\n",
            "-6\n",
            "50\n"
          ]
        }
      ]
    },
    {
      "cell_type": "markdown",
      "metadata": {
        "id": "8F5YYtOr6BDt"
      },
      "source": [
        "# Задача 6\n",
        "\n",
        "\n",
        "Напишите программу, которая считывает целые числа с консоли по одному числу в строке.\n",
        "Для каждого введённого числа проверить:\n",
        "* если число меньше 10, то пропускаем это число;\n",
        "* если число больше 100, то прекращаем считывать числа;\n",
        "* в остальных случаях вывести это число обратно на консоль в отдельной строке\n",
        "\n"
      ]
    },
    {
      "cell_type": "code",
      "metadata": {
        "id": "YqepZaps6FPE"
      },
      "source": [
        "n = int(input())\n",
        "while n < 101:\n",
        "  if n >= 10:\n",
        "    print(\"(ﾉ◕ヮ◕)ﾉ*:･ﾟ ✧\",n,\"✧\")\n",
        "  n = int(input())"
      ],
      "execution_count": null,
      "outputs": []
    },
    {
      "cell_type": "markdown",
      "metadata": {
        "id": "mQ3mh8Ln6VgM"
      },
      "source": [
        "# Задача 7 \n",
        " Когда Павел учился в школе, он запоминал таблицу умножения прямоугольными блоками. Для тренировок ему бы очень пригодилась программа, которая показывала бы блок таблицы умножения. Напишите программу, на вход которой даются четыре числа a , b , c  и d, каждое в своей строке. Программа должна вывести фрагмент таблицы умножения для всех чисел отрезка [a;b] на все числа отрезка [c;d].Числа a , b, c  и d  являются натуральными и не превосходят 10, a≤b и c≤d .\n"
      ]
    },
    {
      "cell_type": "code",
      "metadata": {
        "id": "v_t-DoNs6jR2"
      },
      "source": [
        "a = int(input())\n",
        "b = int(input())\n",
        "c = int(input())\n",
        "d = int(input())\n",
        "ab = list(range(a,b+1))\n",
        "cd = list(range(c,d+1))\n",
        "print(\"\\t\",end=\"\")\n",
        "for i in range(len(cd)):\n",
        "  print(cd[i],end=\"\\t\")\n",
        "print()\n",
        "for i in range(len(ab)):\n",
        "  print(ab[i],end=\"\\t\")\n",
        "  for j in range(len(cd)):\n",
        "    print(ab[i]*cd[j],end=\"\\t\")\n",
        "  print()"
      ],
      "execution_count": null,
      "outputs": []
    },
    {
      "cell_type": "markdown",
      "metadata": {
        "id": "EXqJmN19-CvW"
      },
      "source": [
        "# Задача 8\n",
        "Вася уехал учиться по обмену на один семестр в Италию. Единственный магазин в городе открыт с 6 до 8 утра и с 16 до 17 вечера (включительно). Вася не мог попасть в магазин уже несколько дней и страдает от голода. Он может прийти в магазин в X часов. Если магазин открыт в X часов, то выведите True, а если закрыт - выведите False. В единственной строке входных данных вводится целое число X, число находится в пределах от 0 до 23\n"
      ]
    },
    {
      "cell_type": "code",
      "metadata": {
        "id": "gRnjTw3Z-IdV"
      },
      "source": [
        "a_b = list(range(6,9))\n",
        "b_c = list(range(16,18))\n",
        "a_c = a_b + b_c\n",
        "print(a_c)\n",
        "n = int(input())\n",
        "m = 0\n",
        "if n in a_c:\n",
        "  print(\"True\")\n",
        "else:\n",
        "  print(\"False\")\n"
      ],
      "execution_count": null,
      "outputs": []
    },
    {
      "cell_type": "markdown",
      "metadata": {
        "id": "MIjEy7tE-PYV"
      },
      "source": [
        "# Задача 9\n",
        "Вася закупился продуктами в Испании и ему больше не грозит голодная смерть. Однако, он потратил все деньги и был вынужден устроиться на работу свинопасом в Доломитовых Альпах с графиком сутки через двое. Вася работает начиная с первого дня (т.е. работает в день 1, отдыхает в дни 2 и 3, работает в день 4, отдыхает в дни 5 и 6 и т.д.). Выведите True, если в день X Вася должен работать и False в противном случае. \n"
      ]
    },
    {
      "cell_type": "code",
      "metadata": {
        "id": "UGTkH_hg-UEl"
      },
      "source": [
        "n = int(input())\n",
        "if (n-1)%3==0:\n",
        "  print(\"True\")\n",
        "else:\n",
        "  print(\"false\")"
      ],
      "execution_count": null,
      "outputs": []
    },
    {
      "cell_type": "markdown",
      "metadata": {
        "id": "kjdCuWxm-Zps"
      },
      "source": [
        "# Задача 10\n",
        " Вася не смог попасть в магазин в Италии. Несмотря на удачно подобранное время посещения магазина в этот день в городе праздновался день броколетти (цветной капусты) и магазин был закрыт по случаю праздника. Зато Вася смог купить билет до Испании за сущие копейки. В Испании есть магазин, который открыт с A до B часов включительно. Испания - жаркая страна, поэтому с C до D часов включительно наступает сиеста, когда все заведения, включая магазин, закрыты. При этом A < B, C < D. Обратите внимание, что время сиесты не обязательно полностью содержится в интервале работы магазина. Вася может прийти в испанский магазин в X часов. Выведите True если магазин открыт в это время и False, если он закрыт.\n"
      ]
    },
    {
      "cell_type": "code",
      "metadata": {
        "id": "JA5LlRdqBYFc"
      },
      "source": [
        "import random\n",
        "a = random.randrange(13)\n",
        "b = random.randint(7,10)\n",
        "c = random.randint(a,18)\n",
        "a_b = list(range(a,a+b))\n",
        "siesta = list(range(c,c+3))\n",
        "print(a_b,siesta)\n",
        "n = int(input())\n",
        "if n in a_b:\n",
        "  if n in siesta:\n",
        "    print(\"False\")\n",
        "  else:\n",
        "    print(\"True\")\n",
        "else:\n",
        "  print(\"False\")\n"
      ],
      "execution_count": null,
      "outputs": []
    },
    {
      "cell_type": "markdown",
      "metadata": {
        "id": "viSUB-ES-f81"
      },
      "source": [
        "# Задача 11\n",
        "\n",
        "На узких улицах Турина Вася увидел автомобиль Lacia Ypsilon 1997 года выпуска и был поражен его красотой. Чтобы заработать денег на этот автомобиль он взял себе еще одну подработку: пасти гусей сутки через трое. Таким образом, начиная с первого дня Вася пасет свиней с графиком сутки через двое (т.е. в дни 1, 4, 7 и т.д.), а также с первого дня пасет гусей с графиком сутки через трое (т.е. в дни 1, 5, 9 и т.д.). Выведите True, если в день X Вася пасет свиней и гусей одновременно и False в противном случае. В единственной строке входных данных вводится целое положительное число X, которое может быть сколь угодно большим.\n"
      ]
    },
    {
      "cell_type": "code",
      "metadata": {
        "id": "iGeQKGV2BYzU"
      },
      "source": [
        "n = int(input())\n",
        "if ((n-1)%3==0) & ((n-1)%4==0):\n",
        "  print(\"True\")\n",
        "else:\n",
        "  print(\"false\")\n"
      ],
      "execution_count": null,
      "outputs": []
    },
    {
      "cell_type": "markdown",
      "metadata": {
        "id": "dbPyRqX4-gDe"
      },
      "source": [
        "# Задача 12\n",
        "Напишите программу, которая выводит часть последовательности 1 2 2 3 3 3 4 4 4 4 5 5 5 5 5 ... (число повторяется столько раз, чему равно). На вход программе передаётся неотрицательное целое число n — столько элементов последовательности должна отобразить программа. На выходе ожидается последовательность чисел, записанных через пробел в одну строку.Например, если n = 7, то программа должна вывести 1 2 2 3 3 3 4.\n"
      ]
    },
    {
      "cell_type": "code",
      "metadata": {
        "id": "HnByArqxBcg0"
      },
      "source": [
        "m = int(input())\n",
        "n = 1\n",
        "while m > 0:\n",
        "  for i in range(n):\n",
        "    if m > 0:\n",
        "      m = m - 1\n",
        "    else:\n",
        "      break\n",
        "    print(n)\n",
        "  n = n + 1\n"
      ],
      "execution_count": null,
      "outputs": []
    },
    {
      "cell_type": "markdown",
      "metadata": {
        "id": "ooC7TSXQ-gKE"
      },
      "source": [
        "# Задача 13\n",
        "  Последовательность состоит из натуральных чисел, не превосходящих 109, и завершается числом 0. Определите значение наибольшего элемента последовательности.\n"
      ]
    },
    {
      "cell_type": "code",
      "metadata": {
        "id": "Qp0b3EgOBlD8"
      },
      "source": [
        "import random\n",
        "b = []\n",
        "for i in range(109):\n",
        "  a = random.randrange(110)\n",
        "  b.append(a)\n",
        "max(b)"
      ],
      "execution_count": null,
      "outputs": []
    },
    {
      "cell_type": "markdown",
      "metadata": {
        "id": "VdI2oZWn-gPs"
      },
      "source": [
        "# Задача 14\n",
        "  В институте по офису передвигается робот. Недавно студенты из группы программистов написали для него программу, по которой робот, когда заходит в комнату, считает количество программистов в ней и произносит его вслух: \"n программистов\".\n",
        "Для того, чтобы это звучало правильно, для каждого n n n нужно использовать верное окончание слова.\n",
        "Напишите программу, считывающую с пользовательского ввода целое число n n n (неотрицательное), выводящее это число в консоль вместе с правильным образом изменённым словом \"программист\", для того, чтобы робот мог нормально общаться с людьми, например: 1 программист, 2 программиста, 5 программистов.\n"
      ]
    },
    {
      "cell_type": "code",
      "metadata": {
        "id": "la3iz-XcBqDL",
        "colab": {
          "base_uri": "https://localhost:8080/"
        },
        "outputId": "c8956605-6f6e-4dff-b537-70ee2ee98755"
      },
      "source": [
        "n = int(input())\n",
        "if (5<=n%100<=99) or (n%10 == 0):\n",
        "  print(n, \" программистов\")\n",
        "elif (n%10 == 1):\n",
        "  print(n,\" программист\")\n",
        "else:\n",
        "    print(n, \" программистa\")\n",
        "\n",
        "  \n"
      ],
      "execution_count": null,
      "outputs": [
        {
          "output_type": "stream",
          "name": "stdout",
          "text": [
            "100\n",
            "100  программистов\n"
          ]
        }
      ]
    },
    {
      "cell_type": "markdown",
      "metadata": {
        "id": "1-Dpx9bS-gVU"
      },
      "source": [
        "# Задача 15\n",
        "По данному натуральному n≤9 выведите лесенку из n ступенек, i-я ступенька состоит из чисел от 1 до i без пробелов.\n",
        "\n"
      ]
    },
    {
      "cell_type": "code",
      "metadata": {
        "id": "LBxdpJtRBtoz"
      },
      "source": [
        "m = int(input())\n",
        "n = 1\n",
        "while m > 0:\n",
        "  for i in range(n):\n",
        "    print(i+1,end='')\n",
        "  print()\n",
        "  n = n + 1\n",
        "  m = m - 1"
      ],
      "execution_count": null,
      "outputs": []
    },
    {
      "cell_type": "markdown",
      "metadata": {
        "id": "qxrE85tk_TmL"
      },
      "source": [
        "# Задача 16\n",
        " Дана строка.\n",
        "Сначала выведите третий символ этой строки (считая, что нумерация символов начинается с 1).\n",
        "Во второй строке выведите предпоследний символ этой строки.\n",
        "В третьей строке выведите первые пять символов этой строки.\n",
        "В четвертой строке выведите всю строку, кроме последних двух символов.\n",
        "В пятой строке выведите все символы с четными индексами (считая, что индексация начинается с 0).\n",
        "В шестой строке выведите все символы с нечетными индексами (считая, что индексация начинается с 0).\n",
        "В седьмой строке выведите все символы в обратном порядке.\n",
        "В восьмой строке выведите все символы строки через один в обратном порядке, начиная с последнего.\n",
        "В девятой строке выведите длину данной строки.\n"
      ]
    },
    {
      "cell_type": "code",
      "metadata": {
        "id": "EqiQ4zWrB1xG"
      },
      "source": [
        "stroka = 'Сначала выведите третий символ этой строки'\n",
        "print(stroka[2])\n",
        "print(stroka[-2])\n",
        "print(stroka[:5])\n",
        "print(stroka[:-2])\n",
        "print(stroka[::2])\n",
        "print(stroka[1::2])\n",
        "print(stroka[::-1])\n",
        "print(stroka[::-2])\n",
        "print(len(stroka))"
      ],
      "execution_count": null,
      "outputs": []
    },
    {
      "cell_type": "markdown",
      "metadata": {
        "id": "PoGA1ex2_cxk"
      },
      "source": [
        "# Задача 17\n",
        " Дана строка. Если в этом числе буква f встречается только один раз, выведите её индекс. Если она встречается два и более раз, выведите индекс её первого и последнего появления через пробел. Если буква f в данной строке не встречается, ничего не выводите.\n",
        "\n"
      ]
    },
    {
      "cell_type": "code",
      "metadata": {
        "id": "Dym74FGbB3-0"
      },
      "source": [
        "stk = 'ahiufhdbaljbufisdbvvuc'\n",
        "if stk.count('f') > 1:\n",
        "  print(stk.find('f')+1)\n",
        "  print(stk.rfind('f')+1)\n",
        "elif stk.count('f') == 1:\n",
        "  print(stk.find('f')+1)\n",
        "else:\n",
        "  print(\"(О_о)\")"
      ],
      "execution_count": null,
      "outputs": []
    },
    {
      "cell_type": "markdown",
      "metadata": {
        "id": "soG4VOJn_gbc"
      },
      "source": [
        "# Задача 18\n",
        "Вася интересуется тем, что о нем пишут в интернете. Поэтому он хочет проверить, упоминается ли подстрока Vasya (именно с большой буквы) в строке.\n"
      ]
    },
    {
      "cell_type": "code",
      "metadata": {
        "id": "omau5d7aB5_8"
      },
      "source": [
        "stk = 'ahiufhdbaljbVasyaufisdbvvuc'\n",
        "if stk.count('Vasya') >= 1:\n",
        "  print(\"в наличии\")"
      ],
      "execution_count": null,
      "outputs": []
    },
    {
      "cell_type": "markdown",
      "metadata": {
        "id": "JlMrUBDs_7cs"
      },
      "source": [
        "# Задача 19\n",
        "\n",
        "Вводится строка. Выведите True если в ней есть хотя бы одна подстрока Vasya и False в противном случае.\n"
      ]
    },
    {
      "cell_type": "code",
      "metadata": {
        "id": "GyHq_XvvB-Bc"
      },
      "source": [
        "stk = 'ahiufhdbaljbVasyaufisdbvvuc'\n",
        "if stk.count('Vasya') >= 1:\n",
        "  print(\"True\")\n",
        "else:\n",
        "  print(\"False\")"
      ],
      "execution_count": null,
      "outputs": []
    },
    {
      "cell_type": "markdown",
      "metadata": {
        "id": "0c07M-pH__rM"
      },
      "source": [
        "# Задача 20\n",
        "\n",
        "Дана строка, состоящая из слов, разделенных пробелами. Определите, сколько в ней слов.\n",
        "Гарантируется, что в строке не встречается несколько пробелов подряд.\n"
      ]
    },
    {
      "cell_type": "code",
      "metadata": {
        "id": "5rMSsSt-CAQT"
      },
      "source": [
        "stk = 'Дана строка, состоящая из слов, разделенных пробелами.'\n",
        "print(stk.count(' ')+1,\" слов\")"
      ],
      "execution_count": null,
      "outputs": []
    },
    {
      "cell_type": "markdown",
      "metadata": {
        "id": "wLBV_ih1AD1E"
      },
      "source": [
        "# Задача 21\n",
        "В первой строке задается строка string Во второй строке задается строка substring\n",
        "Выведите True, если строка string начинается с подстроки substring, и False в противном случае\n"
      ]
    },
    {
      "cell_type": "code",
      "metadata": {
        "id": "RXk8AlwPWt5Z"
      },
      "source": [
        "str1 = input()\n",
        "str2 = input()\n",
        "\n",
        "if str1.count(str2) >= 1:\n",
        "  print(\"True\")\n",
        "else:\n",
        "  print(\"False\")"
      ],
      "execution_count": null,
      "outputs": []
    },
    {
      "cell_type": "markdown",
      "metadata": {
        "id": "p9pZjwF-AHUk"
      },
      "source": [
        "# Задача 22\n",
        "В форме интернет-магазина пользователю нужно ввести свой номер телефона. Номер телефона \n",
        "состоит из 10 цифр, однако некоторые пользователи вводят его в формате +7123456789, некоторые - 8123456789, а некоторые и вовсе вводят только 10 цифр (без первой) 123456789.\n",
        "\n",
        "Вам необходимо привести номер к стандарту +7123456789\n"
      ]
    },
    {
      "cell_type": "code",
      "metadata": {
        "colab": {
          "base_uri": "https://localhost:8080/"
        },
        "id": "-tjC-tVHAsK7",
        "outputId": "c5836173-ce82-435e-f7fe-69361542a099"
      },
      "source": [
        "str1 = input()\n",
        "print(\"+7\",end='')\n",
        "print(str1[len(str1)-10::])\n"
      ],
      "execution_count": null,
      "outputs": [
        {
          "output_type": "stream",
          "name": "stdout",
          "text": [
            "64561481\n",
            "+71\n"
          ]
        }
      ]
    }
  ]
}